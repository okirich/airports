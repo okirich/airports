import geopandas as gpd
from shapely.geometry import Point
world = gpd.read_file(gpd.datasets.get_path('naturalearth_lowres'))
# world = world[world.continent == 'Europe']
moscow = gpd.GeoSeries([Point(37,55)])
world = world.plot()
moscow = moscow.plot(ax=world,color='red',markersize=3)
